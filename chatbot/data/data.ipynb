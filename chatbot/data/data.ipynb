{
 "cells": [
  {
   "cell_type": "code",
   "execution_count": 3,
   "id": "initial_id",
   "metadata": {
    "collapsed": true,
    "ExecuteTime": {
     "end_time": "2023-11-18T11:17:41.480862100Z",
     "start_time": "2023-11-18T11:17:41.432765700Z"
    }
   },
   "outputs": [],
   "source": [
    "import csv\n",
    "import re\n",
    "\n",
    "# Load movies from movies_genres.csv\n",
    "with open('movie_genres.csv', 'r', encoding='utf-8') as file:\n",
    "    reader = csv.reader(file)\n",
    "    data = list(reader)\n",
    "\n",
    "# Remove the year from the title\n",
    "for row in data:\n",
    "    row[1] = re.sub(r'\\s*\\(\\d{4}\\)\\s*', '', row[1])\n",
    "\n",
    "# Write the modified data back to the CSV file\n",
    "with open('movies_genres.csv', 'w', newline='', encoding= 'utf-8') as file:\n",
    "    writer = csv.writer(file)\n",
    "    writer.writerows(data)\n",
    "\n"
   ]
  },
  {
   "cell_type": "code",
   "execution_count": 4,
   "outputs": [],
   "source": [
    "import csv\n",
    "import json\n",
    "\n",
    "import rdflib\n",
    "\n",
    "# Paths to the files\n",
    "WDT = rdflib.Namespace('http://www.wikidata.org/prop/direct/')\n",
    "\n",
    "# Read the relations and their IDs\n",
    "with open('embeds/relation_ids.del', 'r', encoding='utf-8') as ifile:\n",
    "    rel2id = {rdflib.term.URIRef(rel): int(idx) for idx, rel in csv.reader(ifile, delimiter='\\t')}\n",
    "\n",
    "# Read the labels and their corresponding relations\n",
    "with open('property.json', 'r', encoding='utf-8') as ifile:\n",
    "    rel2lbl = json.load(ifile)\n",
    "\n",
    "# Map the relations to their label\n",
    "# \n",
    "# new_rel2lbl = {str(rel)[len(WDT):]: rel2lbl[str(rel)[len(WDT):]] for rel in rel2id.keys() if str(rel)[len(WDT):] in rel2lbl}\n",
    "new_rel2lbl = {str(rel)[len(WDT):]: rel2lbl.get(str(rel)[len(WDT):], None) for rel in rel2id.keys()}\n",
    "\n",
    "\n",
    "# Write the result to the new JSON file\n",
    "with open('relations.json', 'w', encoding='utf-8') as ofile:\n",
    "    json.dump(new_rel2lbl, ofile, ensure_ascii=False, indent=4)\n"
   ],
   "metadata": {
    "collapsed": false,
    "ExecuteTime": {
     "end_time": "2023-11-18T15:44:48.822072500Z",
     "start_time": "2023-11-18T15:44:48.802069300Z"
    }
   },
   "id": "554d8b57c9e2e566"
  },
  {
   "cell_type": "code",
   "execution_count": 2,
   "outputs": [],
   "source": [
    "import json\n",
    "\n",
    "# Load the data from your JSON files\n",
    "with open('my_property.json', 'r', encoding='utf-8') as f:\n",
    "    my_property = json.load(f)\n",
    "\n",
    "with open('rel2lbl.json', 'r', encoding='utf-8') as f:\n",
    "    rel2lbl = json.load(f)\n",
    "\n",
    "# Check for items in rel2lbll if not in my_property value[0]\n",
    "for key, value in rel2lbl.items():\n",
    "    if key not in my_property or value not in my_property[key]:\n",
    "        # If not present, add it to my_property\n",
    "        if key in my_property:\n",
    "            my_property[key].append(value)\n",
    "        else:\n",
    "            my_property[key] = [value]\n",
    "\n",
    "# Save the updated my_property back to the file\n",
    "with open('my_property.json', 'w') as f:\n",
    "    json.dump(my_property, f, indent=4)\n"
   ],
   "metadata": {
    "collapsed": false,
    "ExecuteTime": {
     "end_time": "2023-11-19T10:19:04.820747300Z",
     "start_time": "2023-11-19T10:19:04.774621800Z"
    }
   },
   "id": "3b119dca6bebb9c0"
  },
  {
   "cell_type": "code",
   "execution_count": 3,
   "outputs": [],
   "source": [
    "import json\n",
    "from SPARQLWrapper import SPARQLWrapper, JSON\n",
    "\n",
    "# Load the data from your JSON file\n",
    "with open('my_property.json', 'r') as f:\n",
    "    my_property = json.load(f)\n",
    "\n",
    "# Initialize the SPARQL endpoint\n",
    "sparql = SPARQLWrapper(\"https://query.wikidata.org/sparql\")\n",
    "\n",
    "# Iterate over the items in my_property\n",
    "for key, values in my_property.items():\n",
    "    # If the first value is null\n",
    "    if values[0] is None:\n",
    "        # Construct the SPARQL query\n",
    "        query = f\"\"\"\n",
    "        SELECT ?item ?itemLabel WHERE {{\n",
    "            wd:{key} rdfs:label ?itemLabel .\n",
    "            FILTER(LANG(?itemLabel) = \"en\") .\n",
    "        }}\n",
    "        \"\"\"\n",
    "        # Set the query and the return format\n",
    "        sparql.setQuery(query)\n",
    "        sparql.setReturnFormat(JSON)\n",
    "\n",
    "        # Execute the query and get the results\n",
    "        results = sparql.query().convert()\n",
    "\n",
    "        # If there are results\n",
    "        if results[\"results\"][\"bindings\"]:\n",
    "            # Get the label of the first result\n",
    "            label = results[\"results\"][\"bindings\"][0][\"itemLabel\"][\"value\"]\n",
    "\n",
    "            # Replace the null value with the label\n",
    "            my_property[key][0] = label\n",
    "\n",
    "# Save the updated my_property back to the file\n",
    "with open('my_property.json', 'w') as f:\n",
    "    json.dump(my_property, f, indent=4)\n",
    "\n",
    "        "
   ],
   "metadata": {
    "collapsed": false,
    "ExecuteTime": {
     "end_time": "2023-11-19T10:30:02.898707100Z",
     "start_time": "2023-11-19T10:29:43.372317100Z"
    }
   },
   "id": "4d77cdd4c3f248ac"
  },
  {
   "cell_type": "code",
   "execution_count": 8,
   "outputs": [
    {
     "ename": "HTTPError",
     "evalue": "HTTP Error 429: Too Many Requests",
     "output_type": "error",
     "traceback": [
      "\u001B[1;31m---------------------------------------------------------------------------\u001B[0m",
      "\u001B[1;31mHTTPError\u001B[0m                                 Traceback (most recent call last)",
      "Cell \u001B[1;32mIn[8], line 27\u001B[0m\n\u001B[0;32m     24\u001B[0m sparql\u001B[38;5;241m.\u001B[39msetReturnFormat(JSON)\n\u001B[0;32m     26\u001B[0m \u001B[38;5;66;03m# Execute the query and get the results\u001B[39;00m\n\u001B[1;32m---> 27\u001B[0m results \u001B[38;5;241m=\u001B[39m \u001B[43msparql\u001B[49m\u001B[38;5;241;43m.\u001B[39;49m\u001B[43mquery\u001B[49m\u001B[43m(\u001B[49m\u001B[43m)\u001B[49m\u001B[38;5;241m.\u001B[39mconvert()\n\u001B[0;32m     29\u001B[0m \u001B[38;5;66;03m# If there are results\u001B[39;00m\n\u001B[0;32m     30\u001B[0m \u001B[38;5;28;01mif\u001B[39;00m results[\u001B[38;5;124m\"\u001B[39m\u001B[38;5;124mresults\u001B[39m\u001B[38;5;124m\"\u001B[39m][\u001B[38;5;124m\"\u001B[39m\u001B[38;5;124mbindings\u001B[39m\u001B[38;5;124m\"\u001B[39m]:\n\u001B[0;32m     31\u001B[0m     \u001B[38;5;66;03m# Get the label of the first result\u001B[39;00m\n",
      "File \u001B[1;32mD:\\Users\\test\\anaconda3\\envs\\sparknlp\\lib\\site-packages\\SPARQLWrapper\\Wrapper.py:960\u001B[0m, in \u001B[0;36mSPARQLWrapper.query\u001B[1;34m(self)\u001B[0m\n\u001B[0;32m    942\u001B[0m \u001B[38;5;28;01mdef\u001B[39;00m \u001B[38;5;21mquery\u001B[39m(\u001B[38;5;28mself\u001B[39m) \u001B[38;5;241m-\u001B[39m\u001B[38;5;241m>\u001B[39m \u001B[38;5;124m\"\u001B[39m\u001B[38;5;124mQueryResult\u001B[39m\u001B[38;5;124m\"\u001B[39m:\n\u001B[0;32m    943\u001B[0m \u001B[38;5;250m    \u001B[39m\u001B[38;5;124;03m\"\"\"\u001B[39;00m\n\u001B[0;32m    944\u001B[0m \u001B[38;5;124;03m    Execute the query.\u001B[39;00m\n\u001B[0;32m    945\u001B[0m \u001B[38;5;124;03m    Exceptions can be raised if either the URI is wrong or the HTTP sends back an error (this is also the\u001B[39;00m\n\u001B[1;32m   (...)\u001B[0m\n\u001B[0;32m    958\u001B[0m \u001B[38;5;124;03m    :rtype: :class:`QueryResult` instance\u001B[39;00m\n\u001B[0;32m    959\u001B[0m \u001B[38;5;124;03m    \"\"\"\u001B[39;00m\n\u001B[1;32m--> 960\u001B[0m     \u001B[38;5;28;01mreturn\u001B[39;00m QueryResult(\u001B[38;5;28;43mself\u001B[39;49m\u001B[38;5;241;43m.\u001B[39;49m\u001B[43m_query\u001B[49m\u001B[43m(\u001B[49m\u001B[43m)\u001B[49m)\n",
      "File \u001B[1;32mD:\\Users\\test\\anaconda3\\envs\\sparknlp\\lib\\site-packages\\SPARQLWrapper\\Wrapper.py:940\u001B[0m, in \u001B[0;36mSPARQLWrapper._query\u001B[1;34m(self)\u001B[0m\n\u001B[0;32m    938\u001B[0m     \u001B[38;5;28;01mraise\u001B[39;00m EndPointInternalError(e\u001B[38;5;241m.\u001B[39mread())\n\u001B[0;32m    939\u001B[0m \u001B[38;5;28;01melse\u001B[39;00m:\n\u001B[1;32m--> 940\u001B[0m     \u001B[38;5;28;01mraise\u001B[39;00m e\n",
      "File \u001B[1;32mD:\\Users\\test\\anaconda3\\envs\\sparknlp\\lib\\site-packages\\SPARQLWrapper\\Wrapper.py:926\u001B[0m, in \u001B[0;36mSPARQLWrapper._query\u001B[1;34m(self)\u001B[0m\n\u001B[0;32m    924\u001B[0m         response \u001B[38;5;241m=\u001B[39m urlopener(request, timeout\u001B[38;5;241m=\u001B[39m\u001B[38;5;28mself\u001B[39m\u001B[38;5;241m.\u001B[39mtimeout)\n\u001B[0;32m    925\u001B[0m     \u001B[38;5;28;01melse\u001B[39;00m:\n\u001B[1;32m--> 926\u001B[0m         response \u001B[38;5;241m=\u001B[39m \u001B[43murlopener\u001B[49m\u001B[43m(\u001B[49m\u001B[43mrequest\u001B[49m\u001B[43m)\u001B[49m\n\u001B[0;32m    927\u001B[0m     \u001B[38;5;28;01mreturn\u001B[39;00m response, \u001B[38;5;28mself\u001B[39m\u001B[38;5;241m.\u001B[39mreturnFormat\n\u001B[0;32m    928\u001B[0m \u001B[38;5;28;01mexcept\u001B[39;00m urllib\u001B[38;5;241m.\u001B[39merror\u001B[38;5;241m.\u001B[39mHTTPError \u001B[38;5;28;01mas\u001B[39;00m e:\n",
      "File \u001B[1;32mD:\\Users\\test\\anaconda3\\envs\\sparknlp\\lib\\urllib\\request.py:214\u001B[0m, in \u001B[0;36murlopen\u001B[1;34m(url, data, timeout, cafile, capath, cadefault, context)\u001B[0m\n\u001B[0;32m    212\u001B[0m \u001B[38;5;28;01melse\u001B[39;00m:\n\u001B[0;32m    213\u001B[0m     opener \u001B[38;5;241m=\u001B[39m _opener\n\u001B[1;32m--> 214\u001B[0m \u001B[38;5;28;01mreturn\u001B[39;00m \u001B[43mopener\u001B[49m\u001B[38;5;241;43m.\u001B[39;49m\u001B[43mopen\u001B[49m\u001B[43m(\u001B[49m\u001B[43murl\u001B[49m\u001B[43m,\u001B[49m\u001B[43m \u001B[49m\u001B[43mdata\u001B[49m\u001B[43m,\u001B[49m\u001B[43m \u001B[49m\u001B[43mtimeout\u001B[49m\u001B[43m)\u001B[49m\n",
      "File \u001B[1;32mD:\\Users\\test\\anaconda3\\envs\\sparknlp\\lib\\urllib\\request.py:523\u001B[0m, in \u001B[0;36mOpenerDirector.open\u001B[1;34m(self, fullurl, data, timeout)\u001B[0m\n\u001B[0;32m    521\u001B[0m \u001B[38;5;28;01mfor\u001B[39;00m processor \u001B[38;5;129;01min\u001B[39;00m \u001B[38;5;28mself\u001B[39m\u001B[38;5;241m.\u001B[39mprocess_response\u001B[38;5;241m.\u001B[39mget(protocol, []):\n\u001B[0;32m    522\u001B[0m     meth \u001B[38;5;241m=\u001B[39m \u001B[38;5;28mgetattr\u001B[39m(processor, meth_name)\n\u001B[1;32m--> 523\u001B[0m     response \u001B[38;5;241m=\u001B[39m \u001B[43mmeth\u001B[49m\u001B[43m(\u001B[49m\u001B[43mreq\u001B[49m\u001B[43m,\u001B[49m\u001B[43m \u001B[49m\u001B[43mresponse\u001B[49m\u001B[43m)\u001B[49m\n\u001B[0;32m    525\u001B[0m \u001B[38;5;28;01mreturn\u001B[39;00m response\n",
      "File \u001B[1;32mD:\\Users\\test\\anaconda3\\envs\\sparknlp\\lib\\urllib\\request.py:632\u001B[0m, in \u001B[0;36mHTTPErrorProcessor.http_response\u001B[1;34m(self, request, response)\u001B[0m\n\u001B[0;32m    629\u001B[0m \u001B[38;5;66;03m# According to RFC 2616, \"2xx\" code indicates that the client's\u001B[39;00m\n\u001B[0;32m    630\u001B[0m \u001B[38;5;66;03m# request was successfully received, understood, and accepted.\u001B[39;00m\n\u001B[0;32m    631\u001B[0m \u001B[38;5;28;01mif\u001B[39;00m \u001B[38;5;129;01mnot\u001B[39;00m (\u001B[38;5;241m200\u001B[39m \u001B[38;5;241m<\u001B[39m\u001B[38;5;241m=\u001B[39m code \u001B[38;5;241m<\u001B[39m \u001B[38;5;241m300\u001B[39m):\n\u001B[1;32m--> 632\u001B[0m     response \u001B[38;5;241m=\u001B[39m \u001B[38;5;28;43mself\u001B[39;49m\u001B[38;5;241;43m.\u001B[39;49m\u001B[43mparent\u001B[49m\u001B[38;5;241;43m.\u001B[39;49m\u001B[43merror\u001B[49m\u001B[43m(\u001B[49m\n\u001B[0;32m    633\u001B[0m \u001B[43m        \u001B[49m\u001B[38;5;124;43m'\u001B[39;49m\u001B[38;5;124;43mhttp\u001B[39;49m\u001B[38;5;124;43m'\u001B[39;49m\u001B[43m,\u001B[49m\u001B[43m \u001B[49m\u001B[43mrequest\u001B[49m\u001B[43m,\u001B[49m\u001B[43m \u001B[49m\u001B[43mresponse\u001B[49m\u001B[43m,\u001B[49m\u001B[43m \u001B[49m\u001B[43mcode\u001B[49m\u001B[43m,\u001B[49m\u001B[43m \u001B[49m\u001B[43mmsg\u001B[49m\u001B[43m,\u001B[49m\u001B[43m \u001B[49m\u001B[43mhdrs\u001B[49m\u001B[43m)\u001B[49m\n\u001B[0;32m    635\u001B[0m \u001B[38;5;28;01mreturn\u001B[39;00m response\n",
      "File \u001B[1;32mD:\\Users\\test\\anaconda3\\envs\\sparknlp\\lib\\urllib\\request.py:561\u001B[0m, in \u001B[0;36mOpenerDirector.error\u001B[1;34m(self, proto, *args)\u001B[0m\n\u001B[0;32m    559\u001B[0m \u001B[38;5;28;01mif\u001B[39;00m http_err:\n\u001B[0;32m    560\u001B[0m     args \u001B[38;5;241m=\u001B[39m (\u001B[38;5;28mdict\u001B[39m, \u001B[38;5;124m'\u001B[39m\u001B[38;5;124mdefault\u001B[39m\u001B[38;5;124m'\u001B[39m, \u001B[38;5;124m'\u001B[39m\u001B[38;5;124mhttp_error_default\u001B[39m\u001B[38;5;124m'\u001B[39m) \u001B[38;5;241m+\u001B[39m orig_args\n\u001B[1;32m--> 561\u001B[0m     \u001B[38;5;28;01mreturn\u001B[39;00m \u001B[38;5;28;43mself\u001B[39;49m\u001B[38;5;241;43m.\u001B[39;49m\u001B[43m_call_chain\u001B[49m\u001B[43m(\u001B[49m\u001B[38;5;241;43m*\u001B[39;49m\u001B[43margs\u001B[49m\u001B[43m)\u001B[49m\n",
      "File \u001B[1;32mD:\\Users\\test\\anaconda3\\envs\\sparknlp\\lib\\urllib\\request.py:494\u001B[0m, in \u001B[0;36mOpenerDirector._call_chain\u001B[1;34m(self, chain, kind, meth_name, *args)\u001B[0m\n\u001B[0;32m    492\u001B[0m \u001B[38;5;28;01mfor\u001B[39;00m handler \u001B[38;5;129;01min\u001B[39;00m handlers:\n\u001B[0;32m    493\u001B[0m     func \u001B[38;5;241m=\u001B[39m \u001B[38;5;28mgetattr\u001B[39m(handler, meth_name)\n\u001B[1;32m--> 494\u001B[0m     result \u001B[38;5;241m=\u001B[39m \u001B[43mfunc\u001B[49m\u001B[43m(\u001B[49m\u001B[38;5;241;43m*\u001B[39;49m\u001B[43margs\u001B[49m\u001B[43m)\u001B[49m\n\u001B[0;32m    495\u001B[0m     \u001B[38;5;28;01mif\u001B[39;00m result \u001B[38;5;129;01mis\u001B[39;00m \u001B[38;5;129;01mnot\u001B[39;00m \u001B[38;5;28;01mNone\u001B[39;00m:\n\u001B[0;32m    496\u001B[0m         \u001B[38;5;28;01mreturn\u001B[39;00m result\n",
      "File \u001B[1;32mD:\\Users\\test\\anaconda3\\envs\\sparknlp\\lib\\urllib\\request.py:641\u001B[0m, in \u001B[0;36mHTTPDefaultErrorHandler.http_error_default\u001B[1;34m(self, req, fp, code, msg, hdrs)\u001B[0m\n\u001B[0;32m    640\u001B[0m \u001B[38;5;28;01mdef\u001B[39;00m \u001B[38;5;21mhttp_error_default\u001B[39m(\u001B[38;5;28mself\u001B[39m, req, fp, code, msg, hdrs):\n\u001B[1;32m--> 641\u001B[0m     \u001B[38;5;28;01mraise\u001B[39;00m HTTPError(req\u001B[38;5;241m.\u001B[39mfull_url, code, msg, hdrs, fp)\n",
      "\u001B[1;31mHTTPError\u001B[0m: HTTP Error 429: Too Many Requests"
     ]
    }
   ],
   "source": [
    "import json\n",
    "from SPARQLWrapper import SPARQLWrapper, JSON\n",
    "\n",
    "# Load the data from your JSON file\n",
    "with open('rel2lbl.json', 'r') as f:\n",
    "    my_property = json.load(f)\n",
    "\n",
    "# Initialize the SPARQL endpoint\n",
    "sparql = SPARQLWrapper(\"https://query.wikidata.org/sparql\")\n",
    "\n",
    "# Iterate over the items in my_property\n",
    "for key, values in my_property.items():\n",
    "    # If the first value is null\n",
    "    if values is None:\n",
    "        # Construct the SPARQL query\n",
    "        query = f\"\"\"\n",
    "        SELECT ?item ?itemLabel WHERE {{\n",
    "            wd:{key} rdfs:label ?itemLabel .\n",
    "            FILTER(LANG(?itemLabel) = \"en\") .\n",
    "        }}\n",
    "        \"\"\"\n",
    "        # Set the query and the return format\n",
    "        sparql.setQuery(query)\n",
    "        sparql.setReturnFormat(JSON)\n",
    "\n",
    "        # Execute the query and get the results\n",
    "        results = sparql.query().convert()\n",
    "\n",
    "        # If there are results\n",
    "        if results[\"results\"][\"bindings\"]:\n",
    "            # Get the label of the first result\n",
    "            label = results[\"results\"][\"bindings\"][0][\"itemLabel\"][\"value\"]\n",
    "\n",
    "            # Replace the null value with the label\n",
    "            my_property[key] = label\n",
    "\n",
    "# Save the updated my_property back to the file\n",
    "with open('rel2lbl.json', 'w') as f:\n",
    "    json.dump(my_property, f, indent=4)"
   ],
   "metadata": {
    "collapsed": false,
    "ExecuteTime": {
     "end_time": "2023-11-19T10:36:25.261636400Z",
     "start_time": "2023-11-19T10:36:23.743720700Z"
    }
   },
   "id": "ad8c695f85766148"
  },
  {
   "cell_type": "code",
   "execution_count": 9,
   "outputs": [],
   "source": [
    "import json\n",
    "from SPARQLWrapper import SPARQLWrapper, JSON\n",
    "\n",
    "# Load the data from your JSON file\n",
    "with open('rel2lbl.json', 'r') as f:\n",
    "    rel2lbl = json.load(f)\n",
    "\n",
    "# Initialize the SPARQL endpoint\n",
    "sparql = SPARQLWrapper(\"https://query.wikidata.org/sparql\")\n",
    "\n",
    "# Iterate over the items in rel2lbl\n",
    "for key, value in rel2lbl.items():\n",
    "    # If the value is null\n",
    "    if value is None:\n",
    "        # Construct the SPARQL query\n",
    "        query = f\"\"\"\n",
    "        SELECT ?item ?itemLabel WHERE {{\n",
    "            wd:{key} rdfs:label ?itemLabel .\n",
    "            FILTER(LANG(?itemLabel) = \"en\") .\n",
    "        }}\n",
    "        \"\"\"\n",
    "        # Set the query and the return format\n",
    "        sparql.setQuery(query)\n",
    "        sparql.setReturnFormat(JSON)\n",
    "\n",
    "        # Execute the query and get the results\n",
    "        results = sparql.query().convert()\n",
    "\n",
    "        # If there are results\n",
    "        if results[\"results\"][\"bindings\"]:\n",
    "            # Get the label of the first result\n",
    "            label = results[\"results\"][\"bindings\"][0][\"itemLabel\"][\"value\"]\n",
    "\n",
    "            # Replace the null value with the label\n",
    "            rel2lbl[key] = label\n",
    "\n",
    "# Save the updated rel2lbl back to the file\n",
    "with open('rel2lbl.json', 'w') as f:\n",
    "    json.dump(rel2lbl, f, indent=4)\n"
   ],
   "metadata": {
    "collapsed": false,
    "ExecuteTime": {
     "end_time": "2023-11-19T10:38:40.135591200Z",
     "start_time": "2023-11-19T10:38:22.474013100Z"
    }
   },
   "id": "edd24e595cdb88eb"
  },
  {
   "cell_type": "code",
   "execution_count": null,
   "outputs": [],
   "source": [],
   "metadata": {
    "collapsed": false
   },
   "id": "3a117030d0a9c3f5"
  }
 ],
 "metadata": {
  "kernelspec": {
   "display_name": "Python 3",
   "language": "python",
   "name": "python3"
  },
  "language_info": {
   "codemirror_mode": {
    "name": "ipython",
    "version": 2
   },
   "file_extension": ".py",
   "mimetype": "text/x-python",
   "name": "python",
   "nbconvert_exporter": "python",
   "pygments_lexer": "ipython2",
   "version": "2.7.6"
  }
 },
 "nbformat": 4,
 "nbformat_minor": 5
}
