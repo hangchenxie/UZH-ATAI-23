{
 "cells": [
  {
   "cell_type": "code",
   "execution_count": 3,
   "id": "initial_id",
   "metadata": {
    "collapsed": true,
    "ExecuteTime": {
     "end_time": "2023-11-18T11:17:41.480862100Z",
     "start_time": "2023-11-18T11:17:41.432765700Z"
    }
   },
   "outputs": [],
   "source": [
    "import csv\n",
    "import re\n",
    "\n",
    "# Load movies from movies_genres.csv\n",
    "with open('movie_genres.csv', 'r', encoding='utf-8') as file:\n",
    "    reader = csv.reader(file)\n",
    "    data = list(reader)\n",
    "\n",
    "# Remove the year from the title\n",
    "for row in data:\n",
    "    row[1] = re.sub(r'\\s*\\(\\d{4}\\)\\s*', '', row[1])\n",
    "\n",
    "# Write the modified data back to the CSV file\n",
    "with open('movies_genres.csv', 'w', newline='', encoding= 'utf-8') as file:\n",
    "    writer = csv.writer(file)\n",
    "    writer.writerows(data)\n",
    "\n"
   ]
  },
  {
   "cell_type": "code",
   "execution_count": 4,
   "outputs": [],
   "source": [
    "import csv\n",
    "import json\n",
    "\n",
    "import rdflib\n",
    "\n",
    "# Paths to the files\n",
    "WDT = rdflib.Namespace('http://www.wikidata.org/prop/direct/')\n",
    "\n",
    "# Read the relations and their IDs\n",
    "with open('embeds/relation_ids.del', 'r', encoding='utf-8') as ifile:\n",
    "    rel2id = {rdflib.term.URIRef(rel): int(idx) for idx, rel in csv.reader(ifile, delimiter='\\t')}\n",
    "\n",
    "# Read the labels and their corresponding relations\n",
    "with open('property.json', 'r', encoding='utf-8') as ifile:\n",
    "    rel2lbl = json.load(ifile)\n",
    "\n",
    "# Map the relations to their label\n",
    "# \n",
    "# new_rel2lbl = {str(rel)[len(WDT):]: rel2lbl[str(rel)[len(WDT):]] for rel in rel2id.keys() if str(rel)[len(WDT):] in rel2lbl}\n",
    "new_rel2lbl = {str(rel)[len(WDT):]: rel2lbl.get(str(rel)[len(WDT):], None) for rel in rel2id.keys()}\n",
    "\n",
    "\n",
    "# Write the result to the new JSON file\n",
    "with open('relations.json', 'w', encoding='utf-8') as ofile:\n",
    "    json.dump(new_rel2lbl, ofile, ensure_ascii=False, indent=4)\n"
   ],
   "metadata": {
    "collapsed": false,
    "ExecuteTime": {
     "end_time": "2023-11-18T15:44:48.822072500Z",
     "start_time": "2023-11-18T15:44:48.802069300Z"
    }
   },
   "id": "554d8b57c9e2e566"
  },
  {
   "cell_type": "code",
   "execution_count": 2,
   "outputs": [],
   "source": [
    "import json\n",
    "\n",
    "# Load the data from your JSON files\n",
    "with open('my_property.json', 'r', encoding='utf-8') as f:\n",
    "    my_property = json.load(f)\n",
    "\n",
    "with open('rel2lbl.json', 'r', encoding='utf-8') as f:\n",
    "    rel2lbl = json.load(f)\n",
    "\n",
    "# Check for items in rel2lbll if not in my_property value[0]\n",
    "for key, value in rel2lbl.items():\n",
    "    if key not in my_property or value not in my_property[key]:\n",
    "        # If not present, add it to my_property\n",
    "        if key in my_property:\n",
    "            my_property[key].append(value)\n",
    "        else:\n",
    "            my_property[key] = [value]\n",
    "\n",
    "# Save the updated my_property back to the file\n",
    "with open('my_property.json', 'w') as f:\n",
    "    json.dump(my_property, f, indent=4)\n"
   ],
   "metadata": {
    "collapsed": false,
    "ExecuteTime": {
     "end_time": "2023-11-19T10:19:04.820747300Z",
     "start_time": "2023-11-19T10:19:04.774621800Z"
    }
   },
   "id": "3b119dca6bebb9c0"
  },
  {
   "cell_type": "code",
   "execution_count": 3,
   "outputs": [],
   "source": [
    "import json\n",
    "from SPARQLWrapper import SPARQLWrapper, JSON\n",
    "\n",
    "# Load the data from your JSON file\n",
    "with open('my_property.json', 'r') as f:\n",
    "    my_property = json.load(f)\n",
    "\n",
    "# Initialize the SPARQL endpoint\n",
    "sparql = SPARQLWrapper(\"https://query.wikidata.org/sparql\")\n",
    "\n",
    "# Iterate over the items in my_property\n",
    "for key, values in my_property.items():\n",
    "    # If the first value is null\n",
    "    if values[0] is None:\n",
    "        # Construct the SPARQL query\n",
    "        query = f\"\"\"\n",
    "        SELECT ?item ?itemLabel WHERE {{\n",
    "            wd:{key} rdfs:label ?itemLabel .\n",
    "            FILTER(LANG(?itemLabel) = \"en\") .\n",
    "        }}\n",
    "        \"\"\"\n",
    "        # Set the query and the return format\n",
    "        sparql.setQuery(query)\n",
    "        sparql.setReturnFormat(JSON)\n",
    "\n",
    "        # Execute the query and get the results\n",
    "        results = sparql.query().convert()\n",
    "\n",
    "        # If there are results\n",
    "        if results[\"results\"][\"bindings\"]:\n",
    "            # Get the label of the first result\n",
    "            label = results[\"results\"][\"bindings\"][0][\"itemLabel\"][\"value\"]\n",
    "\n",
    "            # Replace the null value with the label\n",
    "            my_property[key][0] = label\n",
    "\n",
    "# Save the updated my_property back to the file\n",
    "with open('my_property.json', 'w') as f:\n",
    "    json.dump(my_property, f, indent=4)\n",
    "\n",
    "        "
   ],
   "metadata": {
    "collapsed": false,
    "ExecuteTime": {
     "end_time": "2023-11-19T10:30:02.898707100Z",
     "start_time": "2023-11-19T10:29:43.372317100Z"
    }
   },
   "id": "4d77cdd4c3f248ac"
  },
  {
   "cell_type": "code",
   "execution_count": null,
   "outputs": [],
   "source": [],
   "metadata": {
    "collapsed": false
   },
   "id": "ad8c695f85766148"
  }
 ],
 "metadata": {
  "kernelspec": {
   "display_name": "Python 3",
   "language": "python",
   "name": "python3"
  },
  "language_info": {
   "codemirror_mode": {
    "name": "ipython",
    "version": 2
   },
   "file_extension": ".py",
   "mimetype": "text/x-python",
   "name": "python",
   "nbconvert_exporter": "python",
   "pygments_lexer": "ipython2",
   "version": "2.7.6"
  }
 },
 "nbformat": 4,
 "nbformat_minor": 5
}
