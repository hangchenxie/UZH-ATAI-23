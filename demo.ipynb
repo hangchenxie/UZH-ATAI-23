{
 "cells": [
  {
   "cell_type": "code",
   "execution_count": 1,
   "id": "initial_id",
   "metadata": {
    "collapsed": true,
    "ExecuteTime": {
     "end_time": "2023-10-07T08:01:15.195244900Z",
     "start_time": "2023-10-07T08:01:14.809461600Z"
    }
   },
   "outputs": [
    {
     "name": "stdout",
     "output_type": "stream",
     "text": [
      "Login successful. Session token: rQQHXUZq3PGiRZrahPcmxgrZSpsCeV_-\n"
     ]
    },
    {
     "data": {
      "text/plain": "'rQQHXUZq3PGiRZrahPcmxgrZSpsCeV_-'"
     },
     "execution_count": 1,
     "metadata": {},
     "output_type": "execute_result"
    }
   ],
   "source": [
    "from speakeasypy import Speakeasy\n",
    "speakeasy = Speakeasy(host='https://speakeasy.ifi.uzh.ch', username='torch-staccato-mushroom_bot', password='ofmkiY2qPQeiRg')\n",
    "speakeasy.login()\n",
    "# This framework will help you log out automatically when the program terminates."
   ]
  },
  {
   "cell_type": "code",
   "execution_count": 2,
   "outputs": [],
   "source": [],
   "metadata": {
    "collapsed": false,
    "ExecuteTime": {
     "end_time": "2023-10-07T08:02:09.297305400Z",
     "start_time": "2023-10-07T08:02:09.128106500Z"
    }
   },
   "id": "284c19a55e599872"
  }
 ],
 "metadata": {
  "kernelspec": {
   "display_name": "Python 3",
   "language": "python",
   "name": "python3"
  },
  "language_info": {
   "codemirror_mode": {
    "name": "ipython",
    "version": 2
   },
   "file_extension": ".py",
   "mimetype": "text/x-python",
   "name": "python",
   "nbconvert_exporter": "python",
   "pygments_lexer": "ipython2",
   "version": "2.7.6"
  }
 },
 "nbformat": 4,
 "nbformat_minor": 5
}
